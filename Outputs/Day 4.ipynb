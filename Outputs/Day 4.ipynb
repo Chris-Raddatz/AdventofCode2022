{
 "cells": [
  {
   "cell_type": "code",
   "execution_count": 1,
   "id": "66f28fd3",
   "metadata": {},
   "outputs": [],
   "source": [
    "with open(r'C:\\Users\\Chris\\OneDrive\\Documents\\input_3.txt') as f:\n",
    "    groups = f.read().split()"
   ]
  },
  {
   "cell_type": "code",
   "execution_count": 47,
   "id": "79d65aea",
   "metadata": {},
   "outputs": [
    {
     "data": {
      "text/plain": [
       "['17-99,18-24', '14-91,22-91', '63-76,66-83']"
      ]
     },
     "execution_count": 47,
     "metadata": {},
     "output_type": "execute_result"
    }
   ],
   "source": [
    "groups[:3]"
   ]
  },
  {
   "cell_type": "code",
   "execution_count": 50,
   "id": "de7ac2b3",
   "metadata": {},
   "outputs": [
    {
     "name": "stdout",
     "output_type": "stream",
     "text": [
      "Part 1:\n",
      "The number of pairs in which one pair is entirely contained in the other is: 550\n",
      "\n",
      "Part 2:\n",
      "The number of pairs in which there is a number contained in either list is: 931\n"
     ]
    }
   ],
   "source": [
    "entirely_overlap = 0\n",
    "exist_in = 0\n",
    "\n",
    "for i in groups:\n",
    "    list_1 = []\n",
    "    list_2 = []\n",
    "\n",
    "    elf_1 = i.split(',')[0].split('-')\n",
    "    elf_2 = i.split(',')[1].split('-')\n",
    "\n",
    "    for x in range(int(elf_1[0]),int(elf_1[1])+1):\n",
    "        list_1.append(x)\n",
    "    for y in range(int(elf_2[0]),int(elf_2[1])+1):\n",
    "        list_2.append(y)\n",
    "\n",
    "    if set(list_1).issubset(list_2) or set(list_2).issubset(list_1) == True:\n",
    "        entirely_overlap += 1\n",
    "    if set(list_1).isdisjoint(set(list_2)) == False:\n",
    "        exist_in += 1\n",
    "    \n",
    "print(\"Part 1:\\nThe number of pairs in which one pair is entirely contained in the other is: {}\\n\".format(entirely_overlap))\n",
    "print(\"Part 2:\\nThe number of pairs in which there is a number contained in either list is: {}\".format(exist_in))"
   ]
  }
 ],
 "metadata": {
  "kernelspec": {
   "display_name": "Python 3 (ipykernel)",
   "language": "python",
   "name": "python3"
  },
  "language_info": {
   "codemirror_mode": {
    "name": "ipython",
    "version": 3
   },
   "file_extension": ".py",
   "mimetype": "text/x-python",
   "name": "python",
   "nbconvert_exporter": "python",
   "pygments_lexer": "ipython3",
   "version": "3.9.13"
  }
 },
 "nbformat": 4,
 "nbformat_minor": 5
}
