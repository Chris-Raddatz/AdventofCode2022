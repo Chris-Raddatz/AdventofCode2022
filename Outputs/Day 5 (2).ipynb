{
 "cells": [
  {
   "cell_type": "code",
   "execution_count": 53,
   "id": "66f28fd3",
   "metadata": {},
   "outputs": [],
   "source": [
    "with open(r'C:\\Users\\Chris\\OneDrive\\Documents\\input_4.txt') as f:\n",
    "    groups = f.read().split('\\n')"
   ]
  },
  {
   "cell_type": "code",
   "execution_count": 54,
   "id": "79d65aea",
   "metadata": {},
   "outputs": [
    {
     "data": {
      "text/plain": [
       "['        [F] [Q]         [Q]        ',\n",
       " '[B]     [Q] [V] [D]     [S]        ',\n",
       " '[S] [P] [T] [R] [M]     [D]        ',\n",
       " '[J] [V] [W] [M] [F]     [J]     [J]',\n",
       " '[Z] [G] [S] [W] [N] [D] [R]     [T]',\n",
       " '[V] [M] [B] [G] [S] [C] [T] [V] [S]',\n",
       " '[D] [S] [L] [J] [L] [G] [G] [F] [R]',\n",
       " '[G] [Z] [C] [H] [C] [R] [H] [P] [D]',\n",
       " ' 1   2   3   4   5   6   7   8   9 ',\n",
       " '']"
      ]
     },
     "execution_count": 54,
     "metadata": {},
     "output_type": "execute_result"
    }
   ],
   "source": [
    "groups[:10]"
   ]
  },
  {
   "cell_type": "code",
   "execution_count": 55,
   "id": "3d270ba4",
   "metadata": {},
   "outputs": [],
   "source": [
    "groups = groups[:-1]"
   ]
  },
  {
   "cell_type": "code",
   "execution_count": 56,
   "id": "1b39765e",
   "metadata": {},
   "outputs": [
    {
     "data": {
      "text/plain": [
       "['move 8 from 4 to 9']"
      ]
     },
     "execution_count": 56,
     "metadata": {},
     "output_type": "execute_result"
    }
   ],
   "source": [
    "groups[-1:]"
   ]
  },
  {
   "cell_type": "code",
   "execution_count": 57,
   "id": "45b4d0bf",
   "metadata": {},
   "outputs": [],
   "source": [
    "moves = groups[10:]"
   ]
  },
  {
   "cell_type": "code",
   "execution_count": 58,
   "id": "3661a285",
   "metadata": {},
   "outputs": [
    {
     "data": {
      "text/plain": [
       "['move 3 from 5 to 2', 'move 3 from 8 to 4', 'move 7 from 7 to 3']"
      ]
     },
     "execution_count": 58,
     "metadata": {},
     "output_type": "execute_result"
    }
   ],
   "source": [
    "moves[:3]"
   ]
  },
  {
   "cell_type": "code",
   "execution_count": 59,
   "id": "0d8a551d",
   "metadata": {},
   "outputs": [],
   "source": [
    "stack_1 = ['G','D','V','Z','J','S','B']\n",
    "stack_2 = ['Z','S','M','G','V','P']\n",
    "stack_3 = ['C','L','B','S','W','T','Q','F']\n",
    "stack_4 = ['H','J','G','W','M','R','V','Q']\n",
    "stack_5 = ['C','L','S','N','F','M','D']\n",
    "stack_6 = ['R','G','C','D']\n",
    "stack_7 = ['H','G','T','R','J','D','S','Q']\n",
    "stack_8 = ['P','F','V']\n",
    "stack_9 = ['D','R','S','T','J']\n",
    "stacks = [stack_1,stack_2,stack_3,stack_4,stack_5,stack_6,stack_7,stack_8,stack_9]"
   ]
  },
  {
   "cell_type": "markdown",
   "id": "d8db4d03",
   "metadata": {},
   "source": [
    "Part 1"
   ]
  },
  {
   "cell_type": "code",
   "execution_count": null,
   "id": "81a54ed5",
   "metadata": {},
   "outputs": [],
   "source": [
    "for i in moves:\n",
    "    count_out = 0\n",
    "    count_in = 0\n",
    "    \n",
    "    move = int(i.split(' ')[1])\n",
    "    taken_out_of = int(i.split(' ')[3])\n",
    "    put_into = int(i.split(' ')[-1])\n",
    "    #print(move, taken_out_of, put_into)\n",
    "    \n",
    "    for box in range(move):\n",
    "        stacks[put_into-1].append(stacks[taken_out_of-1].pop(-1))\n",
    "    #print(stacks[put_into-1],stacks[taken_out_of-1]) \n",
    "top_boxes = ''\n",
    "for stack in stacks:\n",
    "    top_boxes += stack[-1]\n",
    "print(top_boxes)"
   ]
  },
  {
   "cell_type": "markdown",
   "id": "d09e2b8a",
   "metadata": {},
   "source": [
    "Part 2"
   ]
  },
  {
   "cell_type": "code",
   "execution_count": 61,
   "id": "26594c0d",
   "metadata": {},
   "outputs": [
    {
     "name": "stdout",
     "output_type": "stream",
     "text": [
      "DDZSBSQLN\n"
     ]
    }
   ],
   "source": [
    "for i in moves:\n",
    "    count_out = 0\n",
    "    count_in = 0\n",
    "    \n",
    "    move = int(i.split(' ')[1])\n",
    "    taken_out_of = int(i.split(' ')[3])\n",
    "    put_into = int(i.split(' ')[-1])\n",
    "    #print(move, taken_out_of, put_into)\n",
    "    \n",
    "    stacks[put_into-1].extend(stacks[taken_out_of-1][-move:])\n",
    "    stacks[taken_out_of-1] = stacks[taken_out_of-1][:-move]\n",
    "    #print(box, stacks[put_into-1], stacks[taken_out_of-1])\n",
    "    #print(stacks[put_into-1],stacks[taken_out_of-1]) \n",
    "top_boxes = ''\n",
    "for stack in stacks:\n",
    "    top_boxes += stack[-1]\n",
    "print(top_boxes)"
   ]
  }
 ],
 "metadata": {
  "kernelspec": {
   "display_name": "Python 3 (ipykernel)",
   "language": "python",
   "name": "python3"
  },
  "language_info": {
   "codemirror_mode": {
    "name": "ipython",
    "version": 3
   },
   "file_extension": ".py",
   "mimetype": "text/x-python",
   "name": "python",
   "nbconvert_exporter": "python",
   "pygments_lexer": "ipython3",
   "version": "3.9.13"
  }
 },
 "nbformat": 4,
 "nbformat_minor": 5
}
