{
 "cells": [
  {
   "cell_type": "code",
   "execution_count": 70,
   "id": "8718a4e7",
   "metadata": {},
   "outputs": [],
   "source": [
    "with open(r'C:\\Users\\Documents\\input_2.txt') as f:\n",
    "    groups = f.read().split()"
   ]
  },
  {
   "cell_type": "code",
   "execution_count": 75,
   "id": "354b3a77",
   "metadata": {},
   "outputs": [
    {
     "data": {
      "text/plain": [
       "['qFdBBvtHHfvRlfvsqldvqjPpQmnQmjnjjjTRTLGRNG',\n",
       " 'ZCWhhCsJCzSJzSbzgsmPTGNNPPNGjgLTLjgn',\n",
       " 'WJZsbJMwJcszJcScwhVltFwBFBlqddvFdHDfqq']"
      ]
     },
     "execution_count": 75,
     "metadata": {},
     "output_type": "execute_result"
    }
   ],
   "source": [
    "groups[:3]"
   ]
  },
  {
   "cell_type": "markdown",
   "id": "ac302bdd",
   "metadata": {},
   "source": [
    "You are given a list of strings. For each string, there is a first and second half. You are to find the character that exists in each string. Then, we give a numerical value to that string:\n",
    "- a-z = 1-26\n",
    "- A-Z = 27-52\n",
    "Then sum that up"
   ]
  },
  {
   "cell_type": "code",
   "execution_count": 72,
   "id": "e99b51c1",
   "metadata": {},
   "outputs": [],
   "source": [
    "prior_lower = dict(zip(string.ascii_lowercase, range(1,27)))\n",
    "prior_upper = dict(zip(string.ascii_uppercase, range(27,53)))"
   ]
  },
  {
   "cell_type": "code",
   "execution_count": 73,
   "id": "d24995b1",
   "metadata": {},
   "outputs": [],
   "source": [
    "priors = []\n",
    "for i in groups:\n",
    "    lower = []\n",
    "    upper = []\n",
    "    half_length = len(i) / 2\n",
    "    index = 1\n",
    "    #print(i)\n",
    "    for x in i:\n",
    "        if index <= half_length:\n",
    "            if x not in lower:\n",
    "                lower.append(x)\n",
    "        if index > half_length:\n",
    "            if x not in upper:\n",
    "                upper.append(x)\n",
    "        index += 1\n",
    "    for p in lower:\n",
    "        if p in upper:\n",
    "            priors.append(p)\n",
    "    #print(priors)\n",
    "    #print(lower, upper)"
   ]
  },
  {
   "cell_type": "code",
   "execution_count": 74,
   "id": "03805cea",
   "metadata": {
    "scrolled": true
   },
   "outputs": [
    {
     "name": "stdout",
     "output_type": "stream",
     "text": [
      "8039\n"
     ]
    }
   ],
   "source": [
    "sums = 0\n",
    "for x in priors:\n",
    "    if x in prior_lower:\n",
    "        sums += prior_lower[x]\n",
    "    if x in prior_upper:\n",
    "        sums += prior_upper[x]\n",
    "    #print(x,sums)\n",
    "print(sums)"
   ]
  },
  {
   "cell_type": "markdown",
   "id": "d51800b0",
   "metadata": {},
   "source": [
    "Part 2:\n",
    "Matching in groups of 3"
   ]
  },
  {
   "cell_type": "code",
   "execution_count": 145,
   "id": "601812d1",
   "metadata": {},
   "outputs": [
    {
     "name": "stdout",
     "output_type": "stream",
     "text": [
      "2510\n"
     ]
    }
   ],
   "source": [
    "sums = 0\n",
    "for threes in range(int(len(groups)/3)):\n",
    "    list_1 = groups[threes*3]\n",
    "    list_2 = groups[1+threes*3]\n",
    "    list_3 = groups[2+threes*3]\n",
    "    all_3 = set(list_1).intersection(set(list_2)).intersection(set(list_3))\n",
    "    for x in all_3:\n",
    "        if x in prior_lower:\n",
    "            sums += prior_lower[x]\n",
    "        if x in prior_upper:\n",
    "            sums += prior_upper[x] \n",
    "print(sums)"
   ]
  },
  {
   "cell_type": "markdown",
   "id": "1e97a57f",
   "metadata": {},
   "source": [
    "I kept working at Day 3 and couldn't figure out how to slice through each row in groups of three so I got frustrated and looked up some hints... Use of intersection and set made it incredibly easier."
   ]
  }
 ],
 "metadata": {
  "kernelspec": {
   "display_name": "Python 3 (ipykernel)",
   "language": "python",
   "name": "python3"
  },
  "language_info": {
   "codemirror_mode": {
    "name": "ipython",
    "version": 3
   },
   "file_extension": ".py",
   "mimetype": "text/x-python",
   "name": "python",
   "nbconvert_exporter": "python",
   "pygments_lexer": "ipython3",
   "version": "3.9.13"
  }
 },
 "nbformat": 4,
 "nbformat_minor": 5
}
